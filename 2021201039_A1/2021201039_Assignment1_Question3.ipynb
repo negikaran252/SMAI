{
 "cells": [
  {
   "cell_type": "markdown",
   "metadata": {},
   "source": [
    "## Spam Email Classifier with KNN using TF-IDF scores"
   ]
  },
  {
   "cell_type": "markdown",
   "metadata": {},
   "source": [
    "1.   Assignment must be implemented in Python 3 only.\n",
    "2.   You are allowed to use libraries for data preprocessing (numpy, pandas, nltk etc) and for evaluation metrics, data visualization (matplotlib etc.).\n",
    "3.   You will be evaluated not just on the overall performance of the model and also on the experimentation with hyper parameters, data prepossessing techniques etc.\n",
    "4.   The report file must be a well documented jupyter notebook, explaining the experiments you have performed, evaluation metrics and corresponding code. The code must run and be able to reproduce the accuracies, figures/graphs etc.\n",
    "5.   For all the questions, you must create a train-validation data split and test the hyperparameter tuning on the validation set. Your jupyter notebook must reflect the same.\n",
    "6.   Strict plagiarism checking will be done. An F will be awarded for plagiarism."
   ]
  },
  {
   "cell_type": "markdown",
   "metadata": {},
   "source": [
    "**Task: Given an email, classify it as spam or ham**\n",
    "\n",
    "Given input text file (\"emails.txt\") containing 5572 email messages, with each row having its corresponding label (spam/ham) attached to it.\n",
    "\n",
    "This task also requires basic pre-processing of text (like removing stopwords, stemming/lemmatizing, replacing email_address with 'email-tag', etc..).\n",
    "\n",
    "You are required to find the tf-idf scores for the given data and use them to perform KNN using Cosine Similarity."
   ]
  },
  {
   "cell_type": "markdown",
   "metadata": {},
   "source": [
    "### Import necessary libraries"
   ]
  },
  {
   "cell_type": "code",
   "execution_count": 194,
   "metadata": {},
   "outputs": [],
   "source": [
    "import numpy as np\n",
    "import pandas as pd\n",
    "import nltk\n",
    "from nltk.corpus import stopwords\n",
    "from nltk.stem.porter import PorterStemmer\n",
    "import string\n",
    "import math\n",
    "import matplotlib.pyplot as plt"
   ]
  },
  {
   "cell_type": "markdown",
   "metadata": {},
   "source": [
    "### Load dataset"
   ]
  },
  {
   "cell_type": "code",
   "execution_count": 195,
   "metadata": {
    "scrolled": true
   },
   "outputs": [],
   "source": [
    "df=pd.read_csv(\"emails.txt\", sep=\"\\t\",names=[\"category\", \"mail\"])\n",
    "# df.head()"
   ]
  },
  {
   "cell_type": "markdown",
   "metadata": {},
   "source": [
    "### Preprocess data"
   ]
  },
  {
   "cell_type": "code",
   "execution_count": 196,
   "metadata": {},
   "outputs": [
    {
     "name": "stderr",
     "output_type": "stream",
     "text": [
      "[nltk_data] Downloading package stopwords to\n",
      "[nltk_data]     C:\\Users\\lenovo\\AppData\\Roaming\\nltk_data...\n",
      "[nltk_data]   Package stopwords is already up-to-date!\n"
     ]
    }
   ],
   "source": [
    "nltk.download('stopwords')\n",
    "punc_list=list(string.punctuation)\n",
    "for i in range(0,10):\n",
    "    punc_list.append(str(i))\n",
    "stpwrds=set(stopwords.words('english'))"
   ]
  },
  {
   "cell_type": "code",
   "execution_count": 197,
   "metadata": {},
   "outputs": [],
   "source": [
    "def preprocess(inp_str):\n",
    "    inp_str=inp_str.lower()\n",
    "    for punc in punc_list:\n",
    "        inp_str = inp_str.replace(punc, \"\")\n",
    "    temp_str=\"\"\n",
    "    stemmer = PorterStemmer()\n",
    "    for token in inp_str.split(' '):\n",
    "        if token not in stpwrds:\n",
    "            token=stemmer.stem(token)\n",
    "            temp_str=temp_str+token+\" \"\n",
    "    temp_str=temp_str.strip()\n",
    "    return temp_str"
   ]
  },
  {
   "cell_type": "code",
   "execution_count": 198,
   "metadata": {
    "scrolled": false
   },
   "outputs": [
    {
     "name": "stderr",
     "output_type": "stream",
     "text": [
      "<ipython-input-198-ca4b18a1199d>:3: SettingWithCopyWarning: \n",
      "A value is trying to be set on a copy of a slice from a DataFrame\n",
      "\n",
      "See the caveats in the documentation: https://pandas.pydata.org/pandas-docs/stable/user_guide/indexing.html#returning-a-view-versus-a-copy\n",
      "  df['mail'][i]=preprocess(df['mail'][i])\n"
     ]
    }
   ],
   "source": [
    "df['sno'] = pd.Series([x for x in range(len(df.index))])\n",
    "for i in range(0, len(df)):\n",
    "    df['mail'][i]=preprocess(df['mail'][i])\n",
    "# print(df)"
   ]
  },
  {
   "cell_type": "code",
   "execution_count": 199,
   "metadata": {},
   "outputs": [],
   "source": [
    "index_dict = {}\n",
    "bag_of_words=[]\n",
    "for i in range(0, len(df)):\n",
    "    for word in df['mail'][i].split(\" \"):\n",
    "        if word not in bag_of_words:\n",
    "            bag_of_words.append(word)\n",
    "bag_of_words=set(bag_of_words)\n",
    "# print(bag_of_words)\n",
    "\n",
    "total_emails=len(df)\n",
    "i = 0\n",
    "for word in bag_of_words:\n",
    "    index_dict[word] = i\n",
    "    i += 1\n",
    "    \n",
    "# print(index_dict)"
   ]
  },
  {
   "cell_type": "code",
   "execution_count": 200,
   "metadata": {},
   "outputs": [],
   "source": [
    "# len(bag_of_words)"
   ]
  },
  {
   "cell_type": "code",
   "execution_count": 201,
   "metadata": {},
   "outputs": [],
   "source": [
    "word_email_freq={}\n",
    "for i in range(0, len(df)):\n",
    "    temp_set=set()\n",
    "    temp_str=df.iloc[i]['mail']\n",
    "    for word in temp_str.split(\" \"):\n",
    "        if word not in temp_set:\n",
    "            if word in word_email_freq:\n",
    "                word_email_freq[word]+=1\n",
    "            else:\n",
    "                word_email_freq[word]=1\n",
    "        temp_set.add(word)\n",
    "# print(word_email_freq)"
   ]
  },
  {
   "cell_type": "code",
   "execution_count": 202,
   "metadata": {},
   "outputs": [],
   "source": [
    "def create_tfidf(email):\n",
    "    size=len(bag_of_words)\n",
    "    tfidf_vec = np.zeros(size)\n",
    "    N=len(email)\n",
    "    for word in email:\n",
    "        occ=0\n",
    "        for token in email:\n",
    "            if token==word:\n",
    "                occ=occ+1\n",
    "        tf=occ/N\n",
    "        nod=1\n",
    "        if word in word_email_freq.keys():\n",
    "             nod= word_email_freq[word] + 1\n",
    "        idf = np.log(total_emails/nod)\n",
    "        score = tf*idf\n",
    "        tfidf_vec[index_dict[word]] = score \n",
    "    return tfidf_vec"
   ]
  },
  {
   "cell_type": "code",
   "execution_count": 203,
   "metadata": {},
   "outputs": [],
   "source": [
    "tfidf_vectors= []\n",
    "for mail in df['mail']:\n",
    "    mail_list=[tokens for tokens in mail.split(' ')]\n",
    "#     print(mail_list)\n",
    "    arr=create_tfidf(mail_list)\n",
    "    tfidf_vectors.append(arr)\n",
    " \n",
    "# print(tfidf_vectors)"
   ]
  },
  {
   "cell_type": "code",
   "execution_count": 204,
   "metadata": {},
   "outputs": [],
   "source": [
    "# tfidf_vectors"
   ]
  },
  {
   "cell_type": "code",
   "execution_count": 205,
   "metadata": {},
   "outputs": [],
   "source": [
    "y=[]\n",
    "for i in df['category']:\n",
    "    if i=='ham':\n",
    "        y.append(0)\n",
    "    else:\n",
    "        y.append(1)"
   ]
  },
  {
   "cell_type": "markdown",
   "metadata": {},
   "source": [
    "### Split data"
   ]
  },
  {
   "cell_type": "code",
   "execution_count": 206,
   "metadata": {},
   "outputs": [],
   "source": [
    "from sklearn.model_selection import train_test_split\n",
    "X_train, X_test, y_train, y_test = train_test_split(tfidf_vectors, y, test_size=0.2,random_state=10)"
   ]
  },
  {
   "cell_type": "markdown",
   "metadata": {},
   "source": [
    "### Train your KNN model (reuse previously iplemented model built from scratch) and test on your data"
   ]
  },
  {
   "cell_type": "markdown",
   "metadata": {},
   "source": [
    "***1. Experiment with different distance measures [Euclidean distance, Manhattan distance, Hamming Distance] and compare with the Cosine Similarity distance results.***"
   ]
  },
  {
   "cell_type": "code",
   "execution_count": 207,
   "metadata": {},
   "outputs": [],
   "source": [
    "def euc_dist(list1, list2):\n",
    "    return np.sqrt(np.sum(np.square(list1 - list2)))\n",
    "    \n",
    "def manhat_dist(list1,list2):\n",
    "    return np.sum(np.absolute(list1-list2))\n",
    "\n",
    "def cosine_dist(list1,list2):\n",
    "    return 1-((np.dot(list1,list2))/(np.linalg.norm(list1) * np.linalg.norm(list2)))"
   ]
  },
  {
   "cell_type": "code",
   "execution_count": 208,
   "metadata": {},
   "outputs": [],
   "source": [
    "def knn(X_train, X_test, y_train,k,mode):\n",
    "    nearest_K=[]\n",
    "    if mode==1:\n",
    "        for mail1 in X_test:\n",
    "            dist=[]\n",
    "            for mail2 in X_train:\n",
    "                val=euc_dist(mail1,mail2)\n",
    "                dist.append(val)\n",
    "            final_dist=list(zip(dist,y_train))\n",
    "            final_dist.sort()\n",
    "            nearest_K.append(final_dist[0:k])\n",
    "    elif mode==2:\n",
    "        for mail1 in X_test:\n",
    "            dist=[]\n",
    "            for mail2 in X_train:\n",
    "                val=manhat_dist(mail1,mail2)\n",
    "                dist.append(val)\n",
    "            final_dist=list(zip(dist,y_train))\n",
    "            final_dist.sort()\n",
    "            nearest_K.append(final_dist[0:k])\n",
    "    elif mode==3:\n",
    "        for mail1 in X_test:\n",
    "            dist=[]\n",
    "            for mail2 in X_train:\n",
    "                val=cosine_dist(mail1,mail2)\n",
    "                dist.append(val)\n",
    "            final_dist=list(zip(dist,y_train))\n",
    "            final_dist.sort()\n",
    "            nearest_K.append(final_dist[0:k])\n",
    "    return nearest_K\n",
    "    "
   ]
  },
  {
   "cell_type": "code",
   "execution_count": 209,
   "metadata": {},
   "outputs": [],
   "source": [
    "def print_parameters(pred_list):\n",
    "    TP,FN,TN,FP=0,0,0,0\n",
    "    for i in range(0,len(pred_list)):\n",
    "        if(pred_list[i]==0 and y_test[i]==0):\n",
    "            TN=TN+1\n",
    "        elif(pred_list[i]==1 and y_test[i]==0):\n",
    "            FP=FP+1\n",
    "        elif(pred_list[i]==0 and y_test[i]==1):\n",
    "            FN=FN+1\n",
    "        elif(pred_list[i]==1 and y_test[i]==1):\n",
    "            TP=TP+1\n",
    "    accuracy=(TN+TP)/len(pred_list)\n",
    "    precision=TP/(TP+FP)\n",
    "    recall=TP/(TP+FN)\n",
    "    f1score=(2*precision*recall)/(precision+recall)\n",
    "    Confusion_Mat=[]\n",
    "    Confusion_Mat.append([TN,FP])\n",
    "    Confusion_Mat.append([FN,TP])\n",
    "    print(\"ACCURACY:\",accuracy)\n",
    "    print(\"PRECISION:\",precision)\n",
    "    print(\"Recall:\",recall)\n",
    "    print(\"F1 SCORE:\",f1score)\n",
    "    print(\"CONFUSION MATRIX:\")\n",
    "    print(Confusion_Mat)\n",
    "    print(\"\\n\")"
   ]
  },
  {
   "cell_type": "code",
   "execution_count": 210,
   "metadata": {},
   "outputs": [],
   "source": [
    "eval_eucl=knn(X_train,X_test,y_train,5,1)\n",
    "eucl_ans=[]\n",
    "for test in eval_eucl:\n",
    "    ham=0\n",
    "    spam=0\n",
    "    for item in test:\n",
    "        if item[1]==0:\n",
    "            ham=ham+1\n",
    "        else:\n",
    "            spam=spam+1\n",
    "    if ham>spam:\n",
    "        eucl_ans.append(0)\n",
    "    else:\n",
    "        eucl_ans.append(1)"
   ]
  },
  {
   "cell_type": "code",
   "execution_count": 211,
   "metadata": {},
   "outputs": [],
   "source": [
    "eval_manhat=knn(X_train,X_test,y_train,5,2)\n",
    "manhat_ans=[]\n",
    "for test in eval_manhat:\n",
    "    ham=0\n",
    "    spam=0\n",
    "    for item in test:\n",
    "        if item[1]==0:\n",
    "            ham=ham+1\n",
    "        else:\n",
    "            spam=spam+1\n",
    "    if ham>spam:\n",
    "        manhat_ans.append(0)\n",
    "    else:\n",
    "        manhat_ans.append(1)"
   ]
  },
  {
   "cell_type": "code",
   "execution_count": 212,
   "metadata": {},
   "outputs": [],
   "source": [
    "eval_cosine=knn(X_train,X_test,y_train,5,3)\n",
    "cosine_ans=[]\n",
    "for test in eval_cosine:\n",
    "    ham=0\n",
    "    spam=0\n",
    "    for item in test:\n",
    "        if item[1]==0:\n",
    "            ham=ham+1\n",
    "        else:\n",
    "            spam=spam+1\n",
    "    if ham>spam:\n",
    "        cosine_ans.append(0)\n",
    "    else:\n",
    "        cosine_ans.append(1)"
   ]
  },
  {
   "cell_type": "code",
   "execution_count": 213,
   "metadata": {
    "scrolled": true
   },
   "outputs": [
    {
     "name": "stdout",
     "output_type": "stream",
     "text": [
      "EUCLIDEAN:\n",
      "ACCURACY: 0.9291479820627803\n",
      "PRECISION: 0.8076923076923077\n",
      "Recall: 0.5874125874125874\n",
      "F1 SCORE: 0.680161943319838\n",
      "CONFUSION MATRIX:\n",
      "[[952, 20], [59, 84]]\n",
      "\n",
      "\n",
      "MANHATTAN:\n",
      "ACCURACY: 0.9219730941704036\n",
      "PRECISION: 1.0\n",
      "Recall: 0.3916083916083916\n",
      "F1 SCORE: 0.5628140703517588\n",
      "CONFUSION MATRIX:\n",
      "[[972, 0], [87, 56]]\n",
      "\n",
      "\n",
      "COSINE:\n",
      "ACCURACY: 0.9560538116591928\n",
      "PRECISION: 0.9351851851851852\n",
      "Recall: 0.7062937062937062\n",
      "F1 SCORE: 0.804780876494024\n",
      "CONFUSION MATRIX:\n",
      "[[965, 7], [42, 101]]\n",
      "\n",
      "\n"
     ]
    }
   ],
   "source": [
    "print(\"EUCLIDEAN:\")\n",
    "print_parameters(eucl_ans)\n",
    "print(\"MANHATTAN:\")\n",
    "print_parameters(manhat_ans)\n",
    "print(\"COSINE:\")\n",
    "print_parameters(cosine_ans)"
   ]
  },
  {
   "cell_type": "markdown",
   "metadata": {},
   "source": [
    "***2. Explain which distance measure works best and why? Explore the distance measures and weigh their pro and cons in different application settings.***"
   ]
  },
  {
   "cell_type": "markdown",
   "metadata": {},
   "source": [
    "The cosine distance measure works best for the given dataset as euclidean and manhattan cannot work good for higher dimesions, also cosine has high accuracy and also the f1 score is good when compared to Euclidean and Manhattan.<br>\n",
    "<b>Manhattan Distance:</b> Manhattan distance is calculated as the sum of the absolute differences between the two vectors.<br>\n",
    "<b>Pros:</b>\n",
    "Manhattan distance is preferrred for the case of high dimensional data or when dataset has discrete and binary attributes.<br>\n",
    "<b>Cons:</b>\n",
    "Manhattan doen't work effectively for image data.<br>\n",
    "<b>Cosine Distance:</b>Cosine Distance measures the distance between two vectors of an inner product space. It is measured by the cosine of the angle between two vectors.<br>\n",
    "<b>Pros:</b>\n",
    "Cosine similarity works well even in high dimensionalty datset.It can work with both categorical and continuous datasets.<br>\n",
    "<b>Cons:</b>\n",
    "Cosine Similarity doesn't consider the size of the vector and just think about their direction and the difference between the values are not fully considered.<br>\n",
    "<b>Euclidean distance:</b> Euclidean Distance is the distance between two points. To find the two points on a plane, the length of a segment connecting the two points is measured.<br>\n",
    "<b>Pros:</b>\n",
    "Euclidean is a good choice for distance function when working in a continuous space where all dimensions are properly scaled and relevant<br>\n",
    "<b>Cons:</b>\n",
    "Euclidean Distance is usually not good for sparse data and become weakly discriminant when we have multidimensional and sparse data.<br>"
   ]
  },
  {
   "cell_type": "markdown",
   "metadata": {},
   "source": [
    "***3. Explain why accuracy alone cannot be used to compare and why do we need f1 score?***"
   ]
  },
  {
   "cell_type": "markdown",
   "metadata": {},
   "source": [
    "Acuuracy can be used for evaluation when the data is evenly distributed.Accuracy alone can't be used when you're working with a class-imbalanced data set.When the data is unevenly distributed like in our case where most of the emails(almost more than 85%) are hams, and very few are spams. Then even if our model fails to predict the spams then due to unbalanced nature of our data accuracy cannot be used for evaluating the correctness of our model. \n",
    "Precision tells us what proportion of positive identifications were actually correct.\n",
    "Recall tells us how many actual positives were identified correctly.\n",
    "F1 which is a function of Precision and Recall.F1 Score is needed when you want to seek a balance between Precision and Recall as there is a tradeoff between Precision and Recall. F1 Score might be a better measure to use if we need to seek a balance between Precision and Recall and there is an uneven class distribution."
   ]
  },
  {
   "cell_type": "markdown",
   "metadata": {},
   "source": [
    "***4. Choose different K values (k=1,3,5,7,11,17,23,28) and experiment. Plot a graph showing F1 score vs k.***"
   ]
  },
  {
   "cell_type": "code",
   "execution_count": 214,
   "metadata": {},
   "outputs": [],
   "source": [
    "k_list=[1,3,5,7,11,17,23,28]\n",
    "method=3"
   ]
  },
  {
   "cell_type": "code",
   "execution_count": 215,
   "metadata": {},
   "outputs": [],
   "source": [
    "nearest_list=knn(X_train,X_test,y_train,max(k_list),method)"
   ]
  },
  {
   "cell_type": "code",
   "execution_count": 216,
   "metadata": {},
   "outputs": [],
   "source": [
    "def calc_params(pred_list):\n",
    "    TP,FN,TN,FP=0,0,0,0\n",
    "    for i in range(0,len(pred_list)):\n",
    "        if(pred_list[i]==0 and y_test[i]==0):\n",
    "            TN=TN+1\n",
    "        elif(pred_list[i]==1 and y_test[i]==0):\n",
    "            FP=FP+1\n",
    "        elif(pred_list[i]==0 and y_test[i]==1):\n",
    "            FN=FN+1\n",
    "        elif(pred_list[i]==1 and y_test[i]==1):\n",
    "            TP=TP+1\n",
    "    accuracy=(TN+TP)/len(pred_list)\n",
    "    precision=TP/(TP+FP)\n",
    "    recall=TP/(TP+FN)\n",
    "    f1score=(2*precision*recall)/(precision+recall)\n",
    "    Confusion_Mat=[]\n",
    "    Confusion_Mat.append([TN,FP])\n",
    "    Confusion_Mat.append([FN,TP])\n",
    "    print(\"ACCURACY:\",accuracy)\n",
    "    print(\"PRECISION:\",precision)\n",
    "    print(\"Recall:\",recall)\n",
    "    print(\"F1 SCORE:\",f1score)\n",
    "    print(\"CONFUSION MATRIX:\")\n",
    "    print(Confusion_Mat)\n",
    "    print(\"\\n\")\n",
    "    return f1score"
   ]
  },
  {
   "cell_type": "code",
   "execution_count": 217,
   "metadata": {},
   "outputs": [
    {
     "name": "stdout",
     "output_type": "stream",
     "text": [
      "FOR K= 1\n",
      "ACCURACY: 0.9641255605381166\n",
      "PRECISION: 0.9401709401709402\n",
      "Recall: 0.7692307692307693\n",
      "F1 SCORE: 0.846153846153846\n",
      "CONFUSION MATRIX:\n",
      "[[965, 7], [33, 110]]\n",
      "\n",
      "\n",
      "FOR K= 3\n",
      "ACCURACY: 0.9587443946188341\n",
      "PRECISION: 0.944954128440367\n",
      "Recall: 0.7202797202797203\n",
      "F1 SCORE: 0.8174603174603174\n",
      "CONFUSION MATRIX:\n",
      "[[966, 6], [40, 103]]\n",
      "\n",
      "\n",
      "FOR K= 5\n",
      "ACCURACY: 0.9560538116591928\n",
      "PRECISION: 0.9351851851851852\n",
      "Recall: 0.7062937062937062\n",
      "F1 SCORE: 0.804780876494024\n",
      "CONFUSION MATRIX:\n",
      "[[965, 7], [42, 101]]\n",
      "\n",
      "\n",
      "FOR K= 7\n",
      "ACCURACY: 0.9479820627802691\n",
      "PRECISION: 0.9047619047619048\n",
      "Recall: 0.6643356643356644\n",
      "F1 SCORE: 0.7661290322580645\n",
      "CONFUSION MATRIX:\n",
      "[[962, 10], [48, 95]]\n",
      "\n",
      "\n",
      "FOR K= 11\n",
      "ACCURACY: 0.9497757847533632\n",
      "PRECISION: 0.9484536082474226\n",
      "Recall: 0.6433566433566433\n",
      "F1 SCORE: 0.7666666666666666\n",
      "CONFUSION MATRIX:\n",
      "[[967, 5], [51, 92]]\n",
      "\n",
      "\n",
      "FOR K= 17\n",
      "ACCURACY: 0.95695067264574\n",
      "PRECISION: 0.9439252336448598\n",
      "Recall: 0.7062937062937062\n",
      "F1 SCORE: 0.8079999999999999\n",
      "CONFUSION MATRIX:\n",
      "[[966, 6], [42, 101]]\n",
      "\n",
      "\n",
      "FOR K= 23\n",
      "ACCURACY: 0.957847533632287\n",
      "PRECISION: 0.9528301886792453\n",
      "Recall: 0.7062937062937062\n",
      "F1 SCORE: 0.8112449799196787\n",
      "CONFUSION MATRIX:\n",
      "[[967, 5], [42, 101]]\n",
      "\n",
      "\n",
      "FOR K= 28\n",
      "ACCURACY: 0.9605381165919282\n",
      "PRECISION: 0.9541284403669725\n",
      "Recall: 0.7272727272727273\n",
      "F1 SCORE: 0.8253968253968254\n",
      "CONFUSION MATRIX:\n",
      "[[967, 5], [39, 104]]\n",
      "\n",
      "\n"
     ]
    }
   ],
   "source": [
    "k_list.sort()\n",
    "f1_score=[]\n",
    "for k in k_list:\n",
    "    pred_list=[]\n",
    "    for test in nearest_list:\n",
    "        temp_nearest=test[:k]\n",
    "        ham=0\n",
    "        spam=0\n",
    "        for item in temp_nearest:\n",
    "            if item[1]==0:\n",
    "                ham=ham+1\n",
    "            else:\n",
    "                spam=spam+1\n",
    "        if ham>spam:\n",
    "            pred_list.append(0)\n",
    "        else:\n",
    "            pred_list.append(1)\n",
    "    print(\"FOR K=\",k)\n",
    "    f_meas=calc_params(pred_list)\n",
    "    f1_score.append([k,f_meas])\n",
    "    "
   ]
  },
  {
   "cell_type": "code",
   "execution_count": 218,
   "metadata": {},
   "outputs": [
    {
     "data": {
      "image/png": "[encoded data removed]",
      "text/plain": [
       "<Figure size 432x288 with 1 Axes>"
      ]
     },
     "metadata": {
      "needs_background": "light"
     },
     "output_type": "display_data"
    }
   ],
   "source": [
    "vals_of_k=[t[0] for t in f1_score]\n",
    "vals_f1 = [t[1] for t in f1_score]\n",
    "plt.plot(vals_of_k, vals_f1, marker='o')\n",
    "plt.title('K VS F1 SCORE FOR MY KNN')\n",
    "plt.show()"
   ]
  },
  {
   "cell_type": "markdown",
   "metadata": {},
   "source": [
    "### Train and test Sklearn's KNN classifier model on your data (use metric which gave best results on your experimentation with built-from-scratch model.)"
   ]
  },
  {
   "cell_type": "code",
   "execution_count": 219,
   "metadata": {},
   "outputs": [],
   "source": [
    "from sklearn.model_selection import train_test_split\n",
    "x_train, x_test, Y_train, Y_test = train_test_split(tfidf_vectors, y, test_size=0.2)"
   ]
  },
  {
   "cell_type": "code",
   "execution_count": 220,
   "metadata": {},
   "outputs": [],
   "source": [
    "from sklearn import metrics"
   ]
  },
  {
   "cell_type": "code",
   "execution_count": 221,
   "metadata": {},
   "outputs": [],
   "source": [
    "list_K=[1,3,5,7,11,17,23,28]"
   ]
  },
  {
   "cell_type": "code",
   "execution_count": 222,
   "metadata": {},
   "outputs": [],
   "source": [
    "from sklearn.neighbors import KNeighborsClassifier\n",
    "pyth_f1=[]\n",
    "for k in list_K:\n",
    "    off_knn = KNeighborsClassifier(n_neighbors=k,metric=\"cosine\")\n",
    "    off_knn.fit(x_train,Y_train)\n",
    "    y_prediction = off_knn.predict(x_test)\n",
    "    pyth_f1.append(metrics.f1_score(Y_test, y_prediction,pos_label=1))\n",
    "    "
   ]
  },
  {
   "cell_type": "code",
   "execution_count": 223,
   "metadata": {},
   "outputs": [],
   "source": [
    "# pyth_f1"
   ]
  },
  {
   "cell_type": "markdown",
   "metadata": {},
   "source": [
    "***Compare both the models result.***"
   ]
  },
  {
   "cell_type": "code",
   "execution_count": 224,
   "metadata": {},
   "outputs": [
    {
     "data": {
      "image/png": "[encoded data removed]",
      "text/plain": [
       "<Figure size 432x288 with 1 Axes>"
      ]
     },
     "metadata": {
      "needs_background": "light"
     },
     "output_type": "display_data"
    },
    {
     "data": {
      "image/png": "[encoded data removed]",
      "text/plain": [
       "<Figure size 432x288 with 1 Axes>"
      ]
     },
     "metadata": {
      "needs_background": "light"
     },
     "output_type": "display_data"
    }
   ],
   "source": [
    "vals_of_k=[t[0] for t in f1_score]\n",
    "vals_f1 = [t[1] for t in f1_score]\n",
    "plt.plot(vals_of_k, vals_f1, marker='o')\n",
    "plt.title('K VS F1 SCORE FOR MY KNN')\n",
    "plt.show()\n",
    "\n",
    "plt.plot(list_K, pyth_f1, marker='o')\n",
    "plt.title('K VS F1 SCORE FOR BUILT IN KNN')\n",
    "plt.show()"
   ]
  },
  {
   "cell_type": "markdown",
   "metadata": {},
   "source": [
    "***What is the time complexity of training using KNN classifier?***"
   ]
  },
  {
   "cell_type": "markdown",
   "metadata": {},
   "source": [
    "The time complexity of training using KNN is O(1)."
   ]
  },
  {
   "cell_type": "markdown",
   "metadata": {},
   "source": [
    "***What is the time complexity while testing? Is KNN a linear classifier or can it learn any boundary?***"
   ]
  },
  {
   "cell_type": "markdown",
   "metadata": {},
   "source": [
    "The time complexity while testing will be <b>O(N*D)</b> for a single test sample, where N is the number of rows in training dataset and D is the dimension in the training dataset.<br> KNN is not a  linear classifier as the distance function used to find the k nearest neighbors is not linear, so it doesn't lead to a linear decision boundary."
   ]
  }
 ],
 "metadata": {
  "kernelspec": {
   "display_name": "Python 3",
   "language": "python",
   "name": "python3"
  },
  "language_info": {
   "codemirror_mode": {
    "name": "ipython",
    "version": 3
   },
   "file_extension": ".py",
   "mimetype": "text/x-python",
   "name": "python",
   "nbconvert_exporter": "python",
   "pygments_lexer": "ipython3",
   "version": "3.8.5"
  }
 },
 "nbformat": 4,
 "nbformat_minor": 5
}
