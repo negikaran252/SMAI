{
  "cells": [
    {
      "cell_type": "markdown",
      "metadata": {
        "id": "qYzG0nRhRKRH"
      },
      "source": [
        "# Image Recommendation System via Collaborative Filtering"
      ],
      "id": "qYzG0nRhRKRH"
    },
    {
      "cell_type": "markdown",
      "metadata": {
        "id": "_wqJvpEvRKRM"
      },
      "source": [
        "# ***Please read the instructions very carefully***"
      ],
      "id": "_wqJvpEvRKRM"
    },
    {
      "cell_type": "markdown",
      "metadata": {
        "id": "4TIDCLclRKRO"
      },
      "source": [
        "1.   Assignment must be implemented in Python 3 only.\n",
        "2.   You are allowed to use libraries for data preprocessing (numpy, pandas, nltk etc) and for evaluation metrics, data visualization (matplotlib etc.).\n",
        "3.   You will be evaluated not just on the overall performance of the model and also on the experimentation with hyper parameters, data prepossessing techniques etc.\n",
        "4.   ⚠️ The Assignment will be evaluated automatically. Please adhere to taking proper inputs from `config.csv` file. You can change your `config.csv` file to experiment with your code. But at the end, make sure that your outputs are corresponding to input values in `config.csv`\n",
        "5.   Strict plagiarism checking will be done. An F will be awarded for plagiarism."
      ],
      "id": "4TIDCLclRKRO"
    },
    {
      "cell_type": "markdown",
      "metadata": {
        "id": "GLgAcGkLRKRb"
      },
      "source": [
        "## About the Dataset\n",
        "Behance is a community art website where users showcase and discover creative work. Each user is able to “appreciate” (equivalent to a “like” on Instagram or a “react” on Facebook) an image, indicating that they like the image. It is in the website’s best interests to show users pictures that they would like, to keep them engaged for longer. For this question, given a set of pictures that a user has already appreciated, you have to show them a new picture that they would like based on what similar users appreciated.\n",
        "\n",
        "\n",
        "<br><br>\n",
        "**The dataset has information of 1 million appreciates of 63,497 users on 178,788 items. The file Behance appreciate 1M has a triplet in each line in the form of (user id, item id, unix timestamp).**"
      ],
      "id": "GLgAcGkLRKRb"
    },
    {
      "cell_type": "markdown",
      "metadata": {
        "id": "N3ZYeD4ARKRd"
      },
      "source": [
        "**Task: Take the inputs from the config.csv file and output the recommendations for a particular person**\n",
        "- Collaborative Filtering is a way to predict items to the user based on the the\n",
        "user’s history and the history of similar users. The similarity between users can be quantified by the number of images that both the users appreciated.\n",
        "- The images appreciated by a similar user would be the most suitable images to show a user. Since we can find the similarity between any two users, we would be able to find the “nearest” neighbours of any user, allowing us to use a KNN-based algorithm to recommend new images to a user.\n",
        "- Since people do not like seeing pictures that they have seen already. Make sure that you do not recommend pictures that a user has appreciated already.\n",
        "- Output the final response will be saved in the file named ```config['output_file']```.\n"
      ],
      "id": "N3ZYeD4ARKRd"
    },
    {
      "cell_type": "markdown",
      "metadata": {
        "id": "5-bhH3kXRKRf"
      },
      "source": [
        "**Output file format:**\n",
        "Populate the output file with images that the user has not seen of the k most\n",
        "similar users, in descending order of their similarity. Each line in the output\n",
        "file should be a duplet in the form of (item id, user id), where the user id is the\n",
        "id of the kth similar user. The order of the images corresponding to the same\n",
        "similar user would not matter. The output file would look something like this:\n",
        "```\n",
        "item_id_1_of_1st_similar_user 1st_most_similar_user_id\n",
        "item_id_2_of_1st_similar_user 1st_most_similar_user_id\n",
        "item_id_3_of_1st_similar_user 1st_most_similar_user_id\n",
        "...\n",
        "item_id_1_of_2nd_similar_user 2nd_most_similar_user_id\n",
        "item_id_2_of_2nd_similar_user 2nd_most_similar_user_id\n",
        "item_id_3_of_2nd_similar_user 2nd_most_similar_user_id\n",
        "...\n",
        "item_id_1_of_kth_similar_user kth_most_similar_user_id\n",
        "item_id_2_of_kth_similar_user kth_most_similar_user_id\n",
        "item_id_3_of_kth_similar_user kth_most_similar_user_id\n",
        "```"
      ],
      "id": "5-bhH3kXRKRf"
    },
    {
      "cell_type": "markdown",
      "metadata": {
        "id": "fphUlcMwRKRg"
      },
      "source": [
        "The dataset was extracted using Behance’s API as a part of the paper\n",
        "“Vista: A visually, socially, and temporally-aware model for artistic\n",
        "recommendation, RecSys, 2016”. Check out this [Google Drive folder](https://drive.google.com/drive/folders/0B9Ck8jw-TZUEc3NlMjVXdDlPU1k?resourcekey=0-6_8ykn0o4fLc5fuTEm91xA) for\n",
        "more information about the dataset.\n",
        "\n",
        "\n",
        "Have fun! The users are waiting to see new pictures!"
      ],
      "id": "fphUlcMwRKRg"
    },
    {
      "cell_type": "markdown",
      "metadata": {
        "id": "8Wx2nUU5RKRi"
      },
      "source": [
        "### Import necessary libraries"
      ],
      "id": "8Wx2nUU5RKRi"
    },
    {
      "cell_type": "code",
      "execution_count": 1,
      "metadata": {
        "id": "DCnm7IbsRKRk"
      },
      "outputs": [],
      "source": [
        "import numpy as np\n",
        "import pandas as pd\n",
        "from scipy.sparse import csr_matrix\n",
        "from sklearn.decomposition import TruncatedSVD\n",
        "# from scipy.spatial import distance"
      ],
      "id": "DCnm7IbsRKRk"
    },
    {
      "cell_type": "code",
      "execution_count": 2,
      "metadata": {
        "id": "ygveY5fNRKRm"
      },
      "outputs": [],
      "source": [
        "# Config Generation Sample Code.\n",
        "# ⚠️ Only for experimentation on your side.\n",
        "# ⚠️ Should be commented during submission.\n",
        "\n",
        "# df = pd.DataFrame(data=[{'id':276633,\n",
        "#                   'k':5,\n",
        "#                   'dataset_file':'./Behance_appreciate_1M',\n",
        "#                   'output_file':'./output.txt'}])\n",
        "# df.to_csv('config.csv')"
      ],
      "id": "ygveY5fNRKRm"
    },
    {
      "cell_type": "code",
      "execution_count": 3,
      "metadata": {
        "id": "PCPco-ZYRKRn"
      },
      "outputs": [],
      "source": [
        "config = pd.read_csv('config.csv').iloc[0]"
      ],
      "id": "PCPco-ZYRKRn"
    },
    {
      "cell_type": "code",
      "execution_count": 4,
      "metadata": {
        "colab": {
          "base_uri": "https://localhost:8080/"
        },
        "id": "3zY75nbCRKRo",
        "outputId": "67cc115c-c296-4134-9d9e-f09291b4df8d"
      },
      "outputs": [
        {
          "output_type": "execute_result",
          "data": {
            "text/plain": [
              "Unnamed: 0                            0\n",
              "id                               276633\n",
              "k                                     5\n",
              "dataset_file    ./Behance_appreciate_1M\n",
              "output_file                ./output.txt\n",
              "Name: 0, dtype: object"
            ]
          },
          "metadata": {},
          "execution_count": 4
        }
      ],
      "source": [
        "config"
      ],
      "id": "3zY75nbCRKRo"
    },
    {
      "cell_type": "code",
      "execution_count": 5,
      "metadata": {
        "id": "ADoqHTrnRKRq"
      },
      "outputs": [],
      "source": [
        "user = config['id']\n",
        "k_value = config['k']"
      ],
      "id": "ADoqHTrnRKRq"
    },
    {
      "cell_type": "markdown",
      "metadata": {
        "id": "PW6lTd37RKRr"
      },
      "source": [
        "### Read the Data"
      ],
      "id": "PW6lTd37RKRr"
    },
    {
      "cell_type": "code",
      "execution_count": 6,
      "metadata": {
        "id": "VbvOCYGnRKRr"
      },
      "outputs": [],
      "source": [
        "with open(config['dataset_file'], 'r') as inFile:\n",
        "    appreciate_data = inFile.readlines()"
      ],
      "id": "VbvOCYGnRKRr"
    },
    {
      "cell_type": "code",
      "execution_count": 7,
      "metadata": {
        "id": "NmJFwPzfRKRs"
      },
      "outputs": [],
      "source": [
        "# your code here"
      ],
      "id": "NmJFwPzfRKRs"
    },
    {
      "cell_type": "markdown",
      "metadata": {
        "id": "IPKazVKeRKRs"
      },
      "source": [
        "### Initialize a dictionary to store the item_ids that a user likes\n",
        "\n",
        "### Go through each line of the input file and construct the user_likes dictionary"
      ],
      "id": "IPKazVKeRKRs"
    },
    {
      "cell_type": "code",
      "execution_count": 8,
      "metadata": {
        "id": "FfP4nNG5RKRt"
      },
      "outputs": [],
      "source": [
        "user_likes = dict()"
      ],
      "id": "FfP4nNG5RKRt"
    },
    {
      "cell_type": "code",
      "execution_count": 9,
      "metadata": {
        "id": "8FY4GPo5RKRt"
      },
      "outputs": [],
      "source": [
        "total_images=set()\n",
        "total_users=set()"
      ],
      "id": "8FY4GPo5RKRt"
    },
    {
      "cell_type": "code",
      "execution_count": 10,
      "metadata": {
        "id": "-JpRhtkxRKRu"
      },
      "outputs": [],
      "source": [
        "for line in appreciate_data:\n",
        "    line = line.strip()\n",
        "    \n",
        "    user_id = int(line.split()[0])\n",
        "    item_id = int(line.split()[1])\n",
        "    \n",
        "    total_images.add(item_id)\n",
        "    total_users.add(user_id)\n",
        "    if user_id not in user_likes:\n",
        "        user_likes[user_id] = list()\n",
        "    user_likes[user_id].append(item_id)"
      ],
      "id": "-JpRhtkxRKRu"
    },
    {
      "cell_type": "code",
      "execution_count": 11,
      "metadata": {
        "id": "oaP5FnTFRKRv"
      },
      "outputs": [],
      "source": [
        "img_index={}\n",
        "i=0\n",
        "for image in total_images:\n",
        "    img_index[image]=i\n",
        "    i=i+1"
      ],
      "id": "oaP5FnTFRKRv"
    },
    {
      "cell_type": "code",
      "execution_count": 12,
      "metadata": {
        "id": "5V6AEtlwRKRv"
      },
      "outputs": [],
      "source": [
        "user_index={}\n",
        "i=0\n",
        "for u in total_users:\n",
        "    user_index[u]=i\n",
        "    i=i+1\n",
        "# user_index"
      ],
      "id": "5V6AEtlwRKRv"
    },
    {
      "cell_type": "code",
      "execution_count": 13,
      "metadata": {
        "id": "M3n_0N2taAiB"
      },
      "outputs": [],
      "source": [
        "row_length=len(total_users)\n",
        "col_length=len(total_images)\n",
        "\n",
        "mat=np.zeros(shape=(row_length,col_length), dtype=np.uint8)\n"
      ],
      "id": "M3n_0N2taAiB"
    },
    {
      "cell_type": "code",
      "execution_count": 14,
      "metadata": {
        "id": "rgSy3-4PexpW"
      },
      "outputs": [],
      "source": [
        "# mat"
      ],
      "id": "rgSy3-4PexpW"
    },
    {
      "cell_type": "code",
      "execution_count": 15,
      "metadata": {
        "id": "cEWz7Lqeeeqa"
      },
      "outputs": [],
      "source": [
        "for key,value in user_likes.items():\n",
        "  idx=user_index[key]\n",
        "  for img in value:\n",
        "    j=img_index[img]\n",
        "    mat[idx][j]=1"
      ],
      "id": "cEWz7Lqeeeqa"
    },
    {
      "cell_type": "code",
      "execution_count": 16,
      "metadata": {
        "id": "WaEI8CIEB24H"
      },
      "outputs": [],
      "source": [
        "# mat.sum()"
      ],
      "id": "WaEI8CIEB24H"
    },
    {
      "cell_type": "code",
      "execution_count": 17,
      "metadata": {
        "id": "bQOrWax0VVQj"
      },
      "outputs": [],
      "source": [
        "mat=csr_matrix(mat)\n"
      ],
      "id": "bQOrWax0VVQj"
    },
    {
      "cell_type": "code",
      "execution_count": 18,
      "metadata": {
        "id": "a1fdN3pjUPtm"
      },
      "outputs": [],
      "source": [
        "svd=TruncatedSVD(n_components=1000,random_state=17)\n",
        "svd_new=svd.fit_transform(mat)"
      ],
      "id": "a1fdN3pjUPtm"
    },
    {
      "cell_type": "code",
      "execution_count": 19,
      "metadata": {
        "id": "CA5IrW-DDU8G"
      },
      "outputs": [],
      "source": [
        "# print(svd_new)"
      ],
      "id": "CA5IrW-DDU8G"
    },
    {
      "cell_type": "code",
      "execution_count": 20,
      "metadata": {
        "id": "-OjYAr70uIXz"
      },
      "outputs": [],
      "source": [
        "def cosine_dist(list1,list2):\n",
        "    return 1-((np.dot(list1,list2))/(np.linalg.norm(list1) * np.linalg.norm(list2)))"
      ],
      "id": "-OjYAr70uIXz"
    },
    {
      "cell_type": "markdown",
      "metadata": {
        "id": "jhX1KqHzRKRx"
      },
      "source": [
        "### Use KNN after Collaborative Filtering to find nearest neighbors"
      ],
      "id": "jhX1KqHzRKRx"
    },
    {
      "cell_type": "code",
      "execution_count": 21,
      "metadata": {
        "id": "OxIUgKNeGZzt"
      },
      "outputs": [],
      "source": [
        "def neighbors(user,k_value):\n",
        "    my_lst=svd_new[user_index[user]]\n",
        "    ans=[]\n",
        "    for key,value in user_index.items():\n",
        "        u_id=key\n",
        "        idx=value\n",
        "        if u_id == user:\n",
        "          continue\n",
        "        cmp_lst=svd_new[idx]\n",
        "        dist=cosine_dist(my_lst,cmp_lst)\n",
        "        # intrsct=len(list(set(my_lst) & set(cmp_lst)))\n",
        "        # unon=len(list(set(my_lst) | set(cmp_lst)))\n",
        "        ans.append([dist,key]) \n",
        "    ans.sort()\n",
        "    return ans"
      ],
      "id": "OxIUgKNeGZzt"
    },
    {
      "cell_type": "code",
      "execution_count": 22,
      "metadata": {
        "id": "a7tddoMhRKRy"
      },
      "outputs": [],
      "source": [
        "# neighbors(user,k_value)"
      ],
      "id": "a7tddoMhRKRy"
    },
    {
      "cell_type": "markdown",
      "metadata": {
        "id": "Zfs_zgZfRKRz"
      },
      "source": [
        "### Open the output file to write all the lines to the file"
      ],
      "id": "Zfs_zgZfRKRz"
    },
    {
      "cell_type": "code",
      "execution_count": 23,
      "metadata": {
        "id": "Gi6wGhOiRKRz"
      },
      "outputs": [],
      "source": [
        "outFile = open(config['output_file'], 'w')\n",
        "my_set = set(user_likes[user])\n",
        "user_set=set()\n",
        "flag=True\n",
        "for n_user in neighbors(user,k_value):\n",
        "    user_id = n_user[1]\n",
        "    #print(user_id)\n",
        "    for item_id in user_likes[user_id]:\n",
        "        if(item_id not in my_set):\n",
        "            user_set.add(user_id)\n",
        "            if(len(user_set)==(k_value+1)):\n",
        "              flag=False\n",
        "              break;\n",
        "            outFile.write(str(item_id) + ' ' + str(user_id) + '\\n')\n",
        "    if(flag==False):\n",
        "      break\n",
        "\n",
        "outFile.close()"
      ],
      "id": "Gi6wGhOiRKRz"
    },
    {
      "cell_type": "code",
      "execution_count": 23,
      "metadata": {
        "id": "0oEibmZFRKR0"
      },
      "outputs": [],
      "source": [
        ""
      ],
      "id": "0oEibmZFRKR0"
    }
  ],
  "metadata": {
    "accelerator": "GPU",
    "colab": {
      "collapsed_sections": [],
      "name": "rollnumber_Assignment1_Question1.ipynb",
      "provenance": []
    },
    "kernelspec": {
      "display_name": "Python 3",
      "language": "python",
      "name": "python3"
    },
    "language_info": {
      "codemirror_mode": {
        "name": "ipython",
        "version": 3
      },
      "file_extension": ".py",
      "mimetype": "text/x-python",
      "name": "python",
      "nbconvert_exporter": "python",
      "pygments_lexer": "ipython3",
      "version": "3.8.5"
    }
  },
  "nbformat": 4,
  "nbformat_minor": 5
}